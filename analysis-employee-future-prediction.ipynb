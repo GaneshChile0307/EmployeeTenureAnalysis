{
 "cells": [
  {
   "attachments": {},
   "cell_type": "markdown",
   "id": "f40cd2f7",
   "metadata": {
    "papermill": {
     "duration": 0.012864,
     "end_time": "2023-03-31T04:29:20.616414",
     "exception": false,
     "start_time": "2023-03-31T04:29:20.603550",
     "status": "completed"
    },
    "tags": []
   },
   "source": [
    "**About the project**\n",
    "\n",
    "A company's HR department wants to predict whether some Employee would leave the company in next 2 years. Your job is to build a predictive model that predicts the prospects of future and present employee."
   ]
  },
  {
   "cell_type": "markdown",
   "id": "4df3f1ed",
   "metadata": {
    "papermill": {
     "duration": 0.011304,
     "end_time": "2023-03-31T04:29:20.639134",
     "exception": false,
     "start_time": "2023-03-31T04:29:20.627830",
     "status": "completed"
    },
    "tags": []
   },
   "source": [
    "**Loading the data**\n",
    "\n",
    "When loading the data, there are 9 columns, according to the description attached to this database, each variable corresponds to the following:\n",
    "\n",
    "**Education**: Education Level\n",
    "\n",
    "**JoiningYear**: Year of joining company\n",
    "\n",
    "**City**: Job Location\n",
    "\n",
    "**PaymentTier**: 1-highest; 2-mid level; 3:lowest\n",
    "\n",
    "**Age**: Current age of employee\n",
    "\n",
    "**Gender**: Gender of employee\n",
    "\n",
    "**EverBenched**: Ever keep out of the projects for 1 month or more\n",
    "\n",
    "**ExperienceInCurrentDomain**: Experience in current field\n",
    "\n",
    "**LeaveOrNot**: Whether employee leaves the company in next two years"
   ]
  },
  {
   "cell_type": "code",
   "execution_count": 1,
   "id": "bdb85512",
   "metadata": {
    "execution": {
     "iopub.execute_input": "2023-03-31T04:29:20.665308Z",
     "iopub.status.busy": "2023-03-31T04:29:20.664112Z",
     "iopub.status.idle": "2023-03-31T04:29:21.972783Z",
     "shell.execute_reply": "2023-03-31T04:29:21.971387Z"
    },
    "papermill": {
     "duration": 1.325974,
     "end_time": "2023-03-31T04:29:21.976733",
     "exception": false,
     "start_time": "2023-03-31T04:29:20.650759",
     "status": "completed"
    },
    "tags": []
   },
   "outputs": [
    {
     "data": {
      "text/html": [
       "<div>\n",
       "<style scoped>\n",
       "    .dataframe tbody tr th:only-of-type {\n",
       "        vertical-align: middle;\n",
       "    }\n",
       "\n",
       "    .dataframe tbody tr th {\n",
       "        vertical-align: top;\n",
       "    }\n",
       "\n",
       "    .dataframe thead th {\n",
       "        text-align: right;\n",
       "    }\n",
       "</style>\n",
       "<table border=\"1\" class=\"dataframe\">\n",
       "  <thead>\n",
       "    <tr style=\"text-align: right;\">\n",
       "      <th></th>\n",
       "      <th>Education</th>\n",
       "      <th>JoiningYear</th>\n",
       "      <th>City</th>\n",
       "      <th>PaymentTier</th>\n",
       "      <th>Age</th>\n",
       "      <th>Gender</th>\n",
       "      <th>EverBenched</th>\n",
       "      <th>ExperienceInCurrentDomain</th>\n",
       "      <th>LeaveOrNot</th>\n",
       "    </tr>\n",
       "  </thead>\n",
       "  <tbody>\n",
       "    <tr>\n",
       "      <th>0</th>\n",
       "      <td>Bachelors</td>\n",
       "      <td>2017</td>\n",
       "      <td>Bangalore</td>\n",
       "      <td>3</td>\n",
       "      <td>34</td>\n",
       "      <td>Male</td>\n",
       "      <td>No</td>\n",
       "      <td>0</td>\n",
       "      <td>0</td>\n",
       "    </tr>\n",
       "    <tr>\n",
       "      <th>1</th>\n",
       "      <td>Bachelors</td>\n",
       "      <td>2013</td>\n",
       "      <td>Pune</td>\n",
       "      <td>1</td>\n",
       "      <td>28</td>\n",
       "      <td>Female</td>\n",
       "      <td>No</td>\n",
       "      <td>3</td>\n",
       "      <td>1</td>\n",
       "    </tr>\n",
       "    <tr>\n",
       "      <th>2</th>\n",
       "      <td>Bachelors</td>\n",
       "      <td>2014</td>\n",
       "      <td>New Delhi</td>\n",
       "      <td>3</td>\n",
       "      <td>38</td>\n",
       "      <td>Female</td>\n",
       "      <td>No</td>\n",
       "      <td>2</td>\n",
       "      <td>0</td>\n",
       "    </tr>\n",
       "    <tr>\n",
       "      <th>3</th>\n",
       "      <td>Masters</td>\n",
       "      <td>2016</td>\n",
       "      <td>Bangalore</td>\n",
       "      <td>3</td>\n",
       "      <td>27</td>\n",
       "      <td>Male</td>\n",
       "      <td>No</td>\n",
       "      <td>5</td>\n",
       "      <td>1</td>\n",
       "    </tr>\n",
       "    <tr>\n",
       "      <th>4</th>\n",
       "      <td>Masters</td>\n",
       "      <td>2017</td>\n",
       "      <td>Pune</td>\n",
       "      <td>3</td>\n",
       "      <td>24</td>\n",
       "      <td>Male</td>\n",
       "      <td>Yes</td>\n",
       "      <td>2</td>\n",
       "      <td>1</td>\n",
       "    </tr>\n",
       "  </tbody>\n",
       "</table>\n",
       "</div>"
      ],
      "text/plain": [
       "   Education  JoiningYear       City  PaymentTier  Age  Gender EverBenched  \\\n",
       "0  Bachelors         2017  Bangalore            3   34    Male          No   \n",
       "1  Bachelors         2013       Pune            1   28  Female          No   \n",
       "2  Bachelors         2014  New Delhi            3   38  Female          No   \n",
       "3    Masters         2016  Bangalore            3   27    Male          No   \n",
       "4    Masters         2017       Pune            3   24    Male         Yes   \n",
       "\n",
       "   ExperienceInCurrentDomain  LeaveOrNot  \n",
       "0                          0           0  \n",
       "1                          3           1  \n",
       "2                          2           0  \n",
       "3                          5           1  \n",
       "4                          2           1  "
      ]
     },
     "execution_count": 1,
     "metadata": {},
     "output_type": "execute_result"
    }
   ],
   "source": [
    "import pandas as pd\n",
    "import matplotlib.pyplot as plt\n",
    "import seaborn as sns\n",
    "\n",
    "\n",
    "employee = pd.read_csv('Employee.csv')\n",
    "employee.head()"
   ]
  },
  {
   "cell_type": "markdown",
   "id": "dd5f163f",
   "metadata": {
    "papermill": {
     "duration": 0.010672,
     "end_time": "2023-03-31T04:29:21.998510",
     "exception": false,
     "start_time": "2023-03-31T04:29:21.987838",
     "status": "completed"
    },
    "tags": []
   },
   "source": [
    "**Exploring the data**\n",
    "\n",
    "In the table there are 4653 entries that mean the number of employee registration, where 5 of these are of type int and 4 of type object, also there are no missing values.\n",
    "\n",
    "1889 duplicate data were found, but despite this, imagine a scenario where this data is not because a single employee has many records but there are several employees who had similar characteristics, then if so, these characteristics would represent an important pattern for the analysis.\n"
   ]
  },
  {
   "cell_type": "code",
   "execution_count": 2,
   "id": "3ca2d709",
   "metadata": {
    "execution": {
     "iopub.execute_input": "2023-03-31T04:29:22.025699Z",
     "iopub.status.busy": "2023-03-31T04:29:22.025166Z",
     "iopub.status.idle": "2023-03-31T04:29:22.052017Z",
     "shell.execute_reply": "2023-03-31T04:29:22.050593Z"
    },
    "papermill": {
     "duration": 0.043972,
     "end_time": "2023-03-31T04:29:22.055444",
     "exception": false,
     "start_time": "2023-03-31T04:29:22.011472",
     "status": "completed"
    },
    "tags": []
   },
   "outputs": [
    {
     "name": "stdout",
     "output_type": "stream",
     "text": [
      "<class 'pandas.core.frame.DataFrame'>\n",
      "RangeIndex: 4653 entries, 0 to 4652\n",
      "Data columns (total 9 columns):\n",
      " #   Column                     Non-Null Count  Dtype \n",
      "---  ------                     --------------  ----- \n",
      " 0   Education                  4653 non-null   object\n",
      " 1   JoiningYear                4653 non-null   int64 \n",
      " 2   City                       4653 non-null   object\n",
      " 3   PaymentTier                4653 non-null   int64 \n",
      " 4   Age                        4653 non-null   int64 \n",
      " 5   Gender                     4653 non-null   object\n",
      " 6   EverBenched                4653 non-null   object\n",
      " 7   ExperienceInCurrentDomain  4653 non-null   int64 \n",
      " 8   LeaveOrNot                 4653 non-null   int64 \n",
      "dtypes: int64(5), object(4)\n",
      "memory usage: 327.3+ KB\n"
     ]
    }
   ],
   "source": [
    "employee.info()"
   ]
  },
  {
   "cell_type": "code",
   "execution_count": 3,
   "id": "f5a3c270",
   "metadata": {
    "execution": {
     "iopub.execute_input": "2023-03-31T04:29:22.082025Z",
     "iopub.status.busy": "2023-03-31T04:29:22.081532Z",
     "iopub.status.idle": "2023-03-31T04:29:22.093808Z",
     "shell.execute_reply": "2023-03-31T04:29:22.092446Z"
    },
    "papermill": {
     "duration": 0.028575,
     "end_time": "2023-03-31T04:29:22.096445",
     "exception": false,
     "start_time": "2023-03-31T04:29:22.067870",
     "status": "completed"
    },
    "tags": []
   },
   "outputs": [
    {
     "data": {
      "text/plain": [
       "Education                    0\n",
       "JoiningYear                  0\n",
       "City                         0\n",
       "PaymentTier                  0\n",
       "Age                          0\n",
       "Gender                       0\n",
       "EverBenched                  0\n",
       "ExperienceInCurrentDomain    0\n",
       "LeaveOrNot                   0\n",
       "dtype: int64"
      ]
     },
     "execution_count": 3,
     "metadata": {},
     "output_type": "execute_result"
    }
   ],
   "source": [
    "employee.isna().sum()"
   ]
  },
  {
   "cell_type": "code",
   "execution_count": 4,
   "id": "7edf1a26",
   "metadata": {
    "execution": {
     "iopub.execute_input": "2023-03-31T04:29:22.121711Z",
     "iopub.status.busy": "2023-03-31T04:29:22.121221Z",
     "iopub.status.idle": "2023-03-31T04:29:22.133884Z",
     "shell.execute_reply": "2023-03-31T04:29:22.132039Z"
    },
    "papermill": {
     "duration": 0.029749,
     "end_time": "2023-03-31T04:29:22.137603",
     "exception": false,
     "start_time": "2023-03-31T04:29:22.107854",
     "status": "completed"
    },
    "tags": []
   },
   "outputs": [
    {
     "name": "stdout",
     "output_type": "stream",
     "text": [
      "1889\n"
     ]
    }
   ],
   "source": [
    "print(employee.duplicated().sum())\n"
   ]
  },
  {
   "cell_type": "code",
   "execution_count": 5,
   "id": "59d9988b",
   "metadata": {
    "execution": {
     "iopub.execute_input": "2023-03-31T04:29:22.164312Z",
     "iopub.status.busy": "2023-03-31T04:29:22.162972Z",
     "iopub.status.idle": "2023-03-31T04:29:22.200552Z",
     "shell.execute_reply": "2023-03-31T04:29:22.199231Z"
    },
    "papermill": {
     "duration": 0.053774,
     "end_time": "2023-03-31T04:29:22.203440",
     "exception": false,
     "start_time": "2023-03-31T04:29:22.149666",
     "status": "completed"
    },
    "tags": []
   },
   "outputs": [
    {
     "data": {
      "text/html": [
       "<div>\n",
       "<style scoped>\n",
       "    .dataframe tbody tr th:only-of-type {\n",
       "        vertical-align: middle;\n",
       "    }\n",
       "\n",
       "    .dataframe tbody tr th {\n",
       "        vertical-align: top;\n",
       "    }\n",
       "\n",
       "    .dataframe thead th {\n",
       "        text-align: right;\n",
       "    }\n",
       "</style>\n",
       "<table border=\"1\" class=\"dataframe\">\n",
       "  <thead>\n",
       "    <tr style=\"text-align: right;\">\n",
       "      <th></th>\n",
       "      <th>JoiningYear</th>\n",
       "      <th>PaymentTier</th>\n",
       "      <th>Age</th>\n",
       "      <th>ExperienceInCurrentDomain</th>\n",
       "      <th>LeaveOrNot</th>\n",
       "    </tr>\n",
       "  </thead>\n",
       "  <tbody>\n",
       "    <tr>\n",
       "      <th>count</th>\n",
       "      <td>4653.0</td>\n",
       "      <td>4653.0</td>\n",
       "      <td>4653.0</td>\n",
       "      <td>4653.0</td>\n",
       "      <td>4653.0</td>\n",
       "    </tr>\n",
       "    <tr>\n",
       "      <th>mean</th>\n",
       "      <td>2015.0</td>\n",
       "      <td>3.0</td>\n",
       "      <td>29.0</td>\n",
       "      <td>3.0</td>\n",
       "      <td>0.0</td>\n",
       "    </tr>\n",
       "    <tr>\n",
       "      <th>std</th>\n",
       "      <td>2.0</td>\n",
       "      <td>1.0</td>\n",
       "      <td>5.0</td>\n",
       "      <td>2.0</td>\n",
       "      <td>0.0</td>\n",
       "    </tr>\n",
       "    <tr>\n",
       "      <th>min</th>\n",
       "      <td>2012.0</td>\n",
       "      <td>1.0</td>\n",
       "      <td>22.0</td>\n",
       "      <td>0.0</td>\n",
       "      <td>0.0</td>\n",
       "    </tr>\n",
       "    <tr>\n",
       "      <th>25%</th>\n",
       "      <td>2013.0</td>\n",
       "      <td>3.0</td>\n",
       "      <td>26.0</td>\n",
       "      <td>2.0</td>\n",
       "      <td>0.0</td>\n",
       "    </tr>\n",
       "    <tr>\n",
       "      <th>50%</th>\n",
       "      <td>2015.0</td>\n",
       "      <td>3.0</td>\n",
       "      <td>28.0</td>\n",
       "      <td>3.0</td>\n",
       "      <td>0.0</td>\n",
       "    </tr>\n",
       "    <tr>\n",
       "      <th>75%</th>\n",
       "      <td>2017.0</td>\n",
       "      <td>3.0</td>\n",
       "      <td>32.0</td>\n",
       "      <td>4.0</td>\n",
       "      <td>1.0</td>\n",
       "    </tr>\n",
       "    <tr>\n",
       "      <th>max</th>\n",
       "      <td>2018.0</td>\n",
       "      <td>3.0</td>\n",
       "      <td>41.0</td>\n",
       "      <td>7.0</td>\n",
       "      <td>1.0</td>\n",
       "    </tr>\n",
       "  </tbody>\n",
       "</table>\n",
       "</div>"
      ],
      "text/plain": [
       "       JoiningYear  PaymentTier     Age  ExperienceInCurrentDomain  LeaveOrNot\n",
       "count       4653.0       4653.0  4653.0                     4653.0      4653.0\n",
       "mean        2015.0          3.0    29.0                        3.0         0.0\n",
       "std            2.0          1.0     5.0                        2.0         0.0\n",
       "min         2012.0          1.0    22.0                        0.0         0.0\n",
       "25%         2013.0          3.0    26.0                        2.0         0.0\n",
       "50%         2015.0          3.0    28.0                        3.0         0.0\n",
       "75%         2017.0          3.0    32.0                        4.0         1.0\n",
       "max         2018.0          3.0    41.0                        7.0         1.0"
      ]
     },
     "execution_count": 5,
     "metadata": {},
     "output_type": "execute_result"
    }
   ],
   "source": [
    "employee.describe().round(0)"
   ]
  },
  {
   "cell_type": "markdown",
   "id": "6ed1e073",
   "metadata": {
    "papermill": {
     "duration": 0.011196,
     "end_time": "2023-03-31T04:29:22.226177",
     "exception": false,
     "start_time": "2023-03-31T04:29:22.214981",
     "status": "completed"
    },
    "tags": []
   },
   "source": [
    "**Focusing data exploration**\n",
    "\n",
    "Taking into account that the objective is to predict if any client will leave the company within two years, it is identified that one of the most important columns is LeaveOrNot\n",
    "\n",
    "With respect to this column it is found that, of total registrations (4,653): \n",
    "- There are 1,600 people who have left the company\n",
    "- There are 3,053 employees"
   ]
  },
  {
   "cell_type": "code",
   "execution_count": 6,
   "id": "54753fd8",
   "metadata": {
    "execution": {
     "iopub.execute_input": "2023-03-31T04:29:22.252412Z",
     "iopub.status.busy": "2023-03-31T04:29:22.251157Z",
     "iopub.status.idle": "2023-03-31T04:29:22.482343Z",
     "shell.execute_reply": "2023-03-31T04:29:22.481294Z"
    },
    "papermill": {
     "duration": 0.247385,
     "end_time": "2023-03-31T04:29:22.485172",
     "exception": false,
     "start_time": "2023-03-31T04:29:22.237787",
     "status": "completed"
    },
    "tags": []
   },
   "outputs": [
    {
     "data": {
      "image/png": "[encoded data removed]",
      "text/plain": [
       "<Figure size 640x480 with 1 Axes>"
      ]
     },
     "metadata": {},
     "output_type": "display_data"
    },
    {
     "name": "stdout",
     "output_type": "stream",
     "text": [
      "0    3053\n",
      "1    1600\n",
      "Name: LeaveOrNot, dtype: int64\n"
     ]
    }
   ],
   "source": [
    "leaveornot_counts = employee['LeaveOrNot'].value_counts()\n",
    "\n",
    "plt.bar(leaveornot_counts.index, leaveornot_counts.values)  \n",
    "\n",
    "plt.xticks(leaveornot_counts.index, \n",
    "           [str(leaveornot) for leaveornot in leaveornot_counts.index])\n",
    "\n",
    "plt.xlabel('Leave or Not')\n",
    "plt.ylabel('Count')\n",
    "plt.title('Leave or Not Distribution')\n",
    "plt.show()\n",
    "\n",
    "print(leaveornot_counts)"
   ]
  },
  {
   "cell_type": "markdown",
   "id": "c4237c51",
   "metadata": {
    "papermill": {
     "duration": 0.011901,
     "end_time": "2023-03-31T04:29:22.509798",
     "exception": false,
     "start_time": "2023-03-31T04:29:22.497897",
     "status": "completed"
    },
    "tags": []
   },
   "source": [
    "Now emphasizing the LeaveOrNot variable, it can be seen in the following graph the following significant correlations\n",
    "- A direct correlation with Joiningyear:0.18\n",
    "- An inverse correlation with PaymentTier:-0.2"
   ]
  },
  {
   "cell_type": "code",
   "execution_count": 7,
   "id": "b6f2c7e5",
   "metadata": {
    "execution": {
     "iopub.execute_input": "2023-03-31T04:29:22.536654Z",
     "iopub.status.busy": "2023-03-31T04:29:22.536164Z",
     "iopub.status.idle": "2023-03-31T04:29:22.950847Z",
     "shell.execute_reply": "2023-03-31T04:29:22.949358Z"
    },
    "papermill": {
     "duration": 0.431982,
     "end_time": "2023-03-31T04:29:22.954023",
     "exception": false,
     "start_time": "2023-03-31T04:29:22.522041",
     "status": "completed"
    },
    "tags": []
   },
   "outputs": [
    {
     "data": {
      "text/plain": [
       "<AxesSubplot:>"
      ]
     },
     "execution_count": 7,
     "metadata": {},
     "output_type": "execute_result"
    },
    {
     "data": {
      "image/png": "[encoded data removed]",
      "text/plain": [
       "<Figure size 640x480 with 2 Axes>"
      ]
     },
     "metadata": {},
     "output_type": "display_data"
    }
   ],
   "source": [
    "corr_matrix = employee.corr()\n",
    "sns.heatmap(corr_matrix, annot=True)\n"
   ]
  },
  {
   "cell_type": "markdown",
   "id": "ac475db2",
   "metadata": {
    "papermill": {
     "duration": 0.01314,
     "end_time": "2023-03-31T04:29:22.981466",
     "exception": false,
     "start_time": "2023-03-31T04:29:22.968326",
     "status": "completed"
    },
    "tags": []
   },
   "source": [
    "The variable with which LeaveOrNot has a direct correlation is explored below, that is, JoningYear. Regarding JoiningYear it is found that\n",
    "- 1108 employees joined the company in 2017\n",
    "- 781 employees joined the company in 2015\n",
    "- 699 employees joined the company in 2014\n",
    "- 669 employees joined the company in 2013\n",
    "- 525 employees joined the company in 2016\n",
    "- 504 employees joined the company in 2012\n",
    "- 367 employees joined the company in 2018"
   ]
  },
  {
   "cell_type": "code",
   "execution_count": 8,
   "id": "2f606b6f",
   "metadata": {
    "execution": {
     "iopub.execute_input": "2023-03-31T04:29:23.010198Z",
     "iopub.status.busy": "2023-03-31T04:29:23.009723Z",
     "iopub.status.idle": "2023-03-31T04:29:23.232675Z",
     "shell.execute_reply": "2023-03-31T04:29:23.231397Z"
    },
    "papermill": {
     "duration": 0.240839,
     "end_time": "2023-03-31T04:29:23.235522",
     "exception": false,
     "start_time": "2023-03-31T04:29:22.994683",
     "status": "completed"
    },
    "tags": []
   },
   "outputs": [
    {
     "data": {
      "image/png": "[encoded data removed]",
      "text/plain": [
       "<Figure size 640x480 with 1 Axes>"
      ]
     },
     "metadata": {},
     "output_type": "display_data"
    },
    {
     "name": "stdout",
     "output_type": "stream",
     "text": [
      "2017    1108\n",
      "2015     781\n",
      "2014     699\n",
      "2013     669\n",
      "2016     525\n",
      "2012     504\n",
      "2018     367\n",
      "Name: JoiningYear, dtype: int64\n"
     ]
    }
   ],
   "source": [
    "joiningyear_counts = employee['JoiningYear'].value_counts()\n",
    "\n",
    "plt.bar(joiningyear_counts.index, joiningyear_counts.values)  \n",
    "\n",
    "plt.xticks(joiningyear_counts.index, [str(year) for year in joiningyear_counts.index])\n",
    "\n",
    "plt.xlabel('Joining Year')\n",
    "plt.ylabel('Count')\n",
    "plt.title('Joining Year Distribution')\n",
    "\n",
    "plt.show()\n",
    "\n",
    "print(joiningyear_counts)\n"
   ]
  },
  {
   "cell_type": "markdown",
   "id": "a7830ae5",
   "metadata": {
    "papermill": {
     "duration": 0.013403,
     "end_time": "2023-03-31T04:29:23.262694",
     "exception": false,
     "start_time": "2023-03-31T04:29:23.249291",
     "status": "completed"
    },
    "tags": []
   },
   "source": [
    "You can see in the following graph the relationship between joiningYear and LeaveOrNot. It's found that among the most important values that\n",
    "\n",
    "- 367 people who joined in 2018, after 2 years left their job\n",
    "- 318 people who joined in 2015, after 2 years left their job\n",
    "- 297 people who joined in 2017, after 2 years left their job"
   ]
  },
  {
   "cell_type": "code",
   "execution_count": 9,
   "id": "4c7dd3f7",
   "metadata": {
    "execution": {
     "iopub.execute_input": "2023-03-31T04:29:23.292770Z",
     "iopub.status.busy": "2023-03-31T04:29:23.292219Z",
     "iopub.status.idle": "2023-03-31T04:29:23.636165Z",
     "shell.execute_reply": "2023-03-31T04:29:23.634759Z"
    },
    "papermill": {
     "duration": 0.36302,
     "end_time": "2023-03-31T04:29:23.639463",
     "exception": false,
     "start_time": "2023-03-31T04:29:23.276443",
     "status": "completed"
    },
    "tags": []
   },
   "outputs": [
    {
     "data": {
      "image/png": "[encoded data removed]",
      "text/plain": [
       "<Figure size 640x480 with 1 Axes>"
      ]
     },
     "metadata": {},
     "output_type": "display_data"
    },
    {
     "name": "stdout",
     "output_type": "stream",
     "text": [
      "             LeaveOrNot\n",
      "JoiningYear            \n",
      "2012                109\n",
      "2013                224\n",
      "2014                173\n",
      "2015                318\n",
      "2016                117\n",
      "2017                297\n",
      "2018                362\n"
     ]
    }
   ],
   "source": [
    "grouped = employee.groupby(['JoiningYear', 'LeaveOrNot']).size().unstack()\n",
    "ax = grouped.plot(kind='bar', stacked=True)\n",
    "ax.set_xlabel('Joining Year')\n",
    "ax.set_ylabel('Number of Employees')\n",
    "ax.set_title('Number of Retired Employees by Joining Year')\n",
    "plt.show()\n",
    "\n",
    "corr_YearLeave=employee.groupby(['JoiningYear'])[['LeaveOrNot']].sum()\n",
    "print(corr_YearLeave)\n"
   ]
  },
  {
   "cell_type": "markdown",
   "id": "7293616a",
   "metadata": {
    "papermill": {
     "duration": 0.013654,
     "end_time": "2023-03-31T04:29:23.667317",
     "exception": false,
     "start_time": "2023-03-31T04:29:23.653663",
     "status": "completed"
    },
    "tags": []
   },
   "source": [
    "Now, let's remember...\n",
    "- In 2018, 367 people joined the company and of this total for this same year, 362 left the company within two years\n",
    "- In 2015, 781 people joined the company and of this total for this same year, 318 left the company within two years\n",
    "- In 2017, 1108 people joined the company and of this total for this same year, 297 left the company within two years\n"
   ]
  },
  {
   "cell_type": "markdown",
   "id": "2098f74e",
   "metadata": {
    "papermill": {
     "duration": 0.013873,
     "end_time": "2023-03-31T04:29:23.695585",
     "exception": false,
     "start_time": "2023-03-31T04:29:23.681712",
     "status": "completed"
    },
    "tags": []
   },
   "source": [
    "PaymentTier was another of the variables that correlated with LeaveOrNot, so the following is found\n",
    "- 3492 people have a basic payment level-3\n",
    "- 918 people have a medium payment level-2\n",
    "- 243 people have a high payment level-1"
   ]
  },
  {
   "cell_type": "code",
   "execution_count": 10,
   "id": "ea31a541",
   "metadata": {
    "execution": {
     "iopub.execute_input": "2023-03-31T04:29:23.726338Z",
     "iopub.status.busy": "2023-03-31T04:29:23.725833Z",
     "iopub.status.idle": "2023-03-31T04:29:23.932483Z",
     "shell.execute_reply": "2023-03-31T04:29:23.931359Z"
    },
    "papermill": {
     "duration": 0.225259,
     "end_time": "2023-03-31T04:29:23.935146",
     "exception": false,
     "start_time": "2023-03-31T04:29:23.709887",
     "status": "completed"
    },
    "tags": []
   },
   "outputs": [
    {
     "data": {
      "image/png": "[encoded data removed]",
      "text/plain": [
       "<Figure size 640x480 with 1 Axes>"
      ]
     },
     "metadata": {},
     "output_type": "display_data"
    },
    {
     "name": "stdout",
     "output_type": "stream",
     "text": [
      "3    3492\n",
      "2     918\n",
      "1     243\n",
      "Name: PaymentTier, dtype: int64\n"
     ]
    }
   ],
   "source": [
    "payment_counts = employee['PaymentTier'].value_counts()\n",
    "\n",
    "plt.bar(payment_counts.index, payment_counts.values)  \n",
    "\n",
    "plt.xticks(payment_counts.index, [str(payment) for payment in payment_counts.index])\n",
    "plt.xlabel('Payment Tier')\n",
    "plt.ylabel('Count')\n",
    "plt.title('Payment Tier Distribution')\n",
    "\n",
    "plt.show()\n",
    "print(payment_counts)\n"
   ]
  },
  {
   "cell_type": "markdown",
   "id": "acf18cc0",
   "metadata": {
    "papermill": {
     "duration": 0.014406,
     "end_time": "2023-03-31T04:29:23.964984",
     "exception": false,
     "start_time": "2023-03-31T04:29:23.950578",
     "status": "completed"
    },
    "tags": []
   },
   "source": [
    "The paymentTier and LeaveOrNot data is shown below. It is found that\n",
    "- 961 people receiving basic pay left the company within 2 years\n",
    "- 550 people receiving basic pay left the company within 2 years\n",
    "- 89 people receiving basic pay left the company within 2 years\n"
   ]
  },
  {
   "cell_type": "code",
   "execution_count": 11,
   "id": "077f3f45",
   "metadata": {
    "execution": {
     "iopub.execute_input": "2023-03-31T04:29:23.996858Z",
     "iopub.status.busy": "2023-03-31T04:29:23.996296Z",
     "iopub.status.idle": "2023-03-31T04:29:24.256681Z",
     "shell.execute_reply": "2023-03-31T04:29:24.254721Z"
    },
    "papermill": {
     "duration": 0.279959,
     "end_time": "2023-03-31T04:29:24.259642",
     "exception": false,
     "start_time": "2023-03-31T04:29:23.979683",
     "status": "completed"
    },
    "tags": []
   },
   "outputs": [
    {
     "data": {
      "image/png": "[encoded data removed]",
      "text/plain": [
       "<Figure size 640x480 with 1 Axes>"
      ]
     },
     "metadata": {},
     "output_type": "display_data"
    },
    {
     "name": "stdout",
     "output_type": "stream",
     "text": [
      "             LeaveOrNot\n",
      "PaymentTier            \n",
      "1                    89\n",
      "2                   550\n",
      "3                   961\n"
     ]
    }
   ],
   "source": [
    "grouped = employee.groupby(['PaymentTier', 'LeaveOrNot']).size().unstack()\n",
    "ax = grouped.plot(kind='bar', stacked=True)\n",
    "ax.set_xlabel('Payment Tier')\n",
    "ax.set_ylabel('Number of Employees')\n",
    "ax.set_title('Number of Retired Employees by Payment Tier')\n",
    "plt.show()\n",
    "\n",
    "corr_paymentLeave=employee.groupby(['PaymentTier'])[['LeaveOrNot']].sum()\n",
    "print(corr_paymentLeave)"
   ]
  },
  {
   "cell_type": "markdown",
   "id": "4612016c",
   "metadata": {
    "papermill": {
     "duration": 0.014781,
     "end_time": "2023-03-31T04:29:24.289845",
     "exception": false,
     "start_time": "2023-03-31T04:29:24.275064",
     "status": "completed"
    },
    "tags": []
   },
   "source": [
    "Now let's remember...\n",
    "- Of 3942 registered people receiving a basic salary, 961 retired within two years, then the drop rate is 24.37%\n",
    "- Of 918 registered people receiving a medium salary, 550 retired within two years,then the drop rate is 59.91%\n",
    "- Of 243 registered people receiving a high salary, 89 retired within two years, then the drop rate is 36.62%"
   ]
  },
  {
   "cell_type": "code",
   "execution_count": 12,
   "id": "fc69a7af",
   "metadata": {
    "execution": {
     "iopub.execute_input": "2023-03-31T04:29:24.322755Z",
     "iopub.status.busy": "2023-03-31T04:29:24.322187Z",
     "iopub.status.idle": "2023-03-31T04:29:24.332211Z",
     "shell.execute_reply": "2023-03-31T04:29:24.330304Z"
    },
    "papermill": {
     "duration": 0.030521,
     "end_time": "2023-03-31T04:29:24.335540",
     "exception": false,
     "start_time": "2023-03-31T04:29:24.305019",
     "status": "completed"
    },
    "tags": []
   },
   "outputs": [
    {
     "name": "stdout",
     "output_type": "stream",
     "text": [
      "the dropout rate for basic salary employees is: 24.378488077118213 %\n",
      "the dropout rate for medium salary employees is: 59.912854030501094 %\n",
      "the dropout rate for high salary employees is: 36.62551440329218 %\n"
     ]
    }
   ],
   "source": [
    "totalEmployee_BS = 3942\n",
    "dropoutEmployee_BS = 961\n",
    "dropout_rateBS = (dropoutEmployee_BS / totalEmployee_BS) * 100\n",
    "\n",
    "totalEmployee_MS = 918\n",
    "dropoutEmployee_MS = 550\n",
    "dropout_rateMS = (dropoutEmployee_MS / totalEmployee_MS) * 100\n",
    "\n",
    "totalEmployee_HS = 243\n",
    "dropoutEmployee_HS = 89\n",
    "dropout_rateHS = (dropoutEmployee_HS / totalEmployee_HS) * 100\n",
    "\n",
    "print(\"the dropout rate for basic salary employees is:\", dropout_rateBS, \"%\")\n",
    "print(\"the dropout rate for medium salary employees is:\", dropout_rateMS, \"%\")\n",
    "print(\"the dropout rate for high salary employees is:\", dropout_rateHS, \"%\")\n",
    "\n",
    "\n"
   ]
  },
  {
   "cell_type": "markdown",
   "id": "f0e3070a",
   "metadata": {
    "papermill": {
     "duration": 0.015375,
     "end_time": "2023-03-31T04:29:24.366544",
     "exception": false,
     "start_time": "2023-03-31T04:29:24.351169",
     "status": "completed"
    },
    "tags": []
   },
   "source": [
    "The variables that had a significant correlation with LeaveOrNo have been explored, now the relationship that LeaveOrNot not may have with Education, City, Gender and EverBenched"
   ]
  },
  {
   "cell_type": "markdown",
   "id": "0246cc85",
   "metadata": {
    "papermill": {
     "duration": 0.014813,
     "end_time": "2023-03-31T04:29:24.399151",
     "exception": false,
     "start_time": "2023-03-31T04:29:24.384338",
     "status": "completed"
    },
    "tags": []
   },
   "source": [
    "Education: The data and the graph indicate that there are \n",
    "- 3601 records of employees with a bachelor's degree.\n",
    "- 873 records of employees with a master's degree.\n",
    "- 179 records of employees with a PHD's degree."
   ]
  },
  {
   "cell_type": "code",
   "execution_count": 13,
   "id": "d3694e60",
   "metadata": {
    "execution": {
     "iopub.execute_input": "2023-03-31T04:29:24.433178Z",
     "iopub.status.busy": "2023-03-31T04:29:24.431995Z",
     "iopub.status.idle": "2023-03-31T04:29:24.675581Z",
     "shell.execute_reply": "2023-03-31T04:29:24.674046Z"
    },
    "papermill": {
     "duration": 0.264447,
     "end_time": "2023-03-31T04:29:24.678781",
     "exception": false,
     "start_time": "2023-03-31T04:29:24.414334",
     "status": "completed"
    },
    "tags": []
   },
   "outputs": [
    {
     "name": "stdout",
     "output_type": "stream",
     "text": [
      "Bachelors    3601\n",
      "Masters       873\n",
      "PHD           179\n",
      "Name: Education, dtype: int64\n"
     ]
    },
    {
     "data": {
      "text/plain": [
       "<function matplotlib.pyplot.show(close=None, block=None)>"
      ]
     },
     "execution_count": 13,
     "metadata": {},
     "output_type": "execute_result"
    },
    {
     "data": {
      "image/png": "[encoded data removed]",
      "text/plain": [
       "<Figure size 640x480 with 1 Axes>"
      ]
     },
     "metadata": {},
     "output_type": "display_data"
    }
   ],
   "source": [
    "education_counts = employee['Education'].value_counts()\n",
    "print(education_counts)\n",
    "\n",
    "Edu = employee['Education']\n",
    "plt.hist(Edu)\n",
    "plt.show\n"
   ]
  },
  {
   "cell_type": "markdown",
   "id": "8dbc6584",
   "metadata": {
    "papermill": {
     "duration": 0.016068,
     "end_time": "2023-03-31T04:29:24.711948",
     "exception": false,
     "start_time": "2023-03-31T04:29:24.695880",
     "status": "completed"
    },
    "tags": []
   },
   "source": [
    "According to the education graph in conjunction with leaveOrNot, it is found\n",
    "- Of 1600 employees who retired within two years, 1129 have a bachelor's degree\n",
    "- Of 1600 employees who retired within two years, 246 have a master's degree\n",
    "- Of 1600 employees who retired within two years, 45 have a PHD degree"
   ]
  },
  {
   "cell_type": "code",
   "execution_count": 14,
   "id": "c343243e",
   "metadata": {
    "execution": {
     "iopub.execute_input": "2023-03-31T04:29:24.747722Z",
     "iopub.status.busy": "2023-03-31T04:29:24.746173Z",
     "iopub.status.idle": "2023-03-31T04:29:24.916308Z",
     "shell.execute_reply": "2023-03-31T04:29:24.913991Z"
    },
    "papermill": {
     "duration": 0.195337,
     "end_time": "2023-03-31T04:29:24.923550",
     "exception": false,
     "start_time": "2023-03-31T04:29:24.728213",
     "status": "completed"
    },
    "tags": []
   },
   "outputs": [
    {
     "data": {
      "image/png": "[encoded data removed]",
      "text/plain": [
       "<Figure size 640x480 with 1 Axes>"
      ]
     },
     "metadata": {},
     "output_type": "display_data"
    },
    {
     "name": "stdout",
     "output_type": "stream",
     "text": [
      "           LeaveOrNot\n",
      "Education            \n",
      "Bachelors        1129\n",
      "Masters           426\n",
      "PHD                45\n"
     ]
    }
   ],
   "source": [
    "retired_df = employee[employee['LeaveOrNot'] == 1]\n",
    "\n",
    "leave_counts = retired_df.groupby('Education')['LeaveOrNot'].count()\n",
    "\n",
    "plt.pie(leave_counts, labels=leave_counts.index, autopct='%1.1f%%')\n",
    "plt.title('Retired Employees by Education')\n",
    "plt.show()\n",
    "\n",
    "corr_eduLeave=employee.groupby(['Education'])[['LeaveOrNot']].sum()\n",
    "print(corr_eduLeave)\n",
    "\n"
   ]
  },
  {
   "cell_type": "markdown",
   "id": "0fb1babe",
   "metadata": {
    "papermill": {
     "duration": 0.015928,
     "end_time": "2023-03-31T04:29:24.974268",
     "exception": false,
     "start_time": "2023-03-31T04:29:24.958340",
     "status": "completed"
    },
    "tags": []
   },
   "source": [
    "Now let's remember...\n",
    "- Of 4653 records in total, 3601 employees have a bachelor's degree, and of this amount, 1129 left the company within 2 years. Dropout rate is: 31.35%\n",
    "- Of 4653 records in total, 873 employees have a master's degree, and of this amount, 426 left the company within 2 years. Dropout rate is: 48.79%\n",
    "- Of 4653 records in total, 179 employees have a PHD degree, and of this amount, 45 left the company within 2 years. Dropout rate is: 25.13%"
   ]
  },
  {
   "cell_type": "code",
   "execution_count": 15,
   "id": "360e9b5c",
   "metadata": {
    "execution": {
     "iopub.execute_input": "2023-03-31T04:29:25.009204Z",
     "iopub.status.busy": "2023-03-31T04:29:25.008729Z",
     "iopub.status.idle": "2023-03-31T04:29:25.017330Z",
     "shell.execute_reply": "2023-03-31T04:29:25.016062Z"
    },
    "papermill": {
     "duration": 0.029149,
     "end_time": "2023-03-31T04:29:25.019722",
     "exception": false,
     "start_time": "2023-03-31T04:29:24.990573",
     "status": "completed"
    },
    "tags": []
   },
   "outputs": [
    {
     "name": "stdout",
     "output_type": "stream",
     "text": [
      "The bachelor's dropout rate is: 31.352402110524853 %\n",
      "The master's dropout rate is: 48.797250859106526 %\n",
      "The PHD's dropout rate is: 25.139664804469277 %\n"
     ]
    }
   ],
   "source": [
    "totalLeave_B = 3601\n",
    "dropoutLeave_B = 1129\n",
    "dropout_rateB = (dropoutLeave_B / totalLeave_B) * 100\n",
    "\n",
    "totalLeave_M = 873\n",
    "dropoutLeave_M = 426\n",
    "dropout_rateM = (dropoutLeave_M / totalLeave_M) * 100\n",
    "\n",
    "totalLeave_P = 179\n",
    "dropoutLeave_P = 45\n",
    "dropout_rateP = (dropoutLeave_P / totalLeave_P) * 100\n",
    "\n",
    "print(\"The bachelor's dropout rate is:\", dropout_rateB, \"%\")\n",
    "print(\"The master's dropout rate is:\", dropout_rateM, \"%\")\n",
    "print(\"The PHD's dropout rate is:\", dropout_rateP, \"%\")\n"
   ]
  },
  {
   "cell_type": "markdown",
   "id": "3a047876",
   "metadata": {
    "papermill": {
     "duration": 0.015902,
     "end_time": "2023-03-31T04:29:25.051965",
     "exception": false,
     "start_time": "2023-03-31T04:29:25.036063",
     "status": "completed"
    },
    "tags": []
   },
   "source": [
    "EverBenched:The data and the graph indicate that there are\n",
    "- 478 employees have ever been off projects for 1 month or more\n",
    "- 4175 employees were always in the projects"
   ]
  },
  {
   "cell_type": "code",
   "execution_count": 16,
   "id": "0eea772f",
   "metadata": {
    "execution": {
     "iopub.execute_input": "2023-03-31T04:29:25.088113Z",
     "iopub.status.busy": "2023-03-31T04:29:25.087037Z",
     "iopub.status.idle": "2023-03-31T04:29:25.322278Z",
     "shell.execute_reply": "2023-03-31T04:29:25.320771Z"
    },
    "papermill": {
     "duration": 0.257014,
     "end_time": "2023-03-31T04:29:25.325205",
     "exception": false,
     "start_time": "2023-03-31T04:29:25.068191",
     "status": "completed"
    },
    "tags": []
   },
   "outputs": [
    {
     "name": "stdout",
     "output_type": "stream",
     "text": [
      "No     4175\n",
      "Yes     478\n",
      "Name: EverBenched, dtype: int64\n"
     ]
    },
    {
     "data": {
      "text/plain": [
       "<function matplotlib.pyplot.show(close=None, block=None)>"
      ]
     },
     "execution_count": 16,
     "metadata": {},
     "output_type": "execute_result"
    },
    {
     "data": {
      "image/png": "[encoded data removed]",
      "text/plain": [
       "<Figure size 640x480 with 1 Axes>"
      ]
     },
     "metadata": {},
     "output_type": "display_data"
    }
   ],
   "source": [
    "everbenched_counts = employee['EverBenched'].value_counts()\n",
    "print(everbenched_counts)\n",
    "\n",
    "everBenched = employee['EverBenched']\n",
    "plt.hist(everBenched)\n",
    "plt.show"
   ]
  },
  {
   "cell_type": "markdown",
   "id": "821a9a36",
   "metadata": {
    "papermill": {
     "duration": 0.016387,
     "end_time": "2023-03-31T04:29:25.358647",
     "exception": false,
     "start_time": "2023-03-31T04:29:25.342260",
     "status": "completed"
    },
    "tags": []
   },
   "source": [
    "According to the EverBenched graph in conjunction with leaveOrNot, it is found\n",
    "- Of 1600 records of employees who left the company within 2 years, 1383 were employees who had always been in a project\n",
    "- of 1,600 records of employees who left the company within 2 years, 217 were employees who had ever been away from projects"
   ]
  },
  {
   "cell_type": "code",
   "execution_count": 17,
   "id": "54e432f0",
   "metadata": {
    "execution": {
     "iopub.execute_input": "2023-03-31T04:29:25.395774Z",
     "iopub.status.busy": "2023-03-31T04:29:25.394426Z",
     "iopub.status.idle": "2023-03-31T04:29:25.534160Z",
     "shell.execute_reply": "2023-03-31T04:29:25.531825Z"
    },
    "papermill": {
     "duration": 0.164563,
     "end_time": "2023-03-31T04:29:25.540076",
     "exception": false,
     "start_time": "2023-03-31T04:29:25.375513",
     "status": "completed"
    },
    "tags": []
   },
   "outputs": [
    {
     "data": {
      "image/png": "[encoded data removed]",
      "text/plain": [
       "<Figure size 640x480 with 1 Axes>"
      ]
     },
     "metadata": {},
     "output_type": "display_data"
    },
    {
     "name": "stdout",
     "output_type": "stream",
     "text": [
      "             LeaveOrNot\n",
      "EverBenched            \n",
      "No                 1383\n",
      "Yes                 217\n"
     ]
    }
   ],
   "source": [
    "retired_df = employee[employee['LeaveOrNot'] == 1]\n",
    "\n",
    "leave_counts = retired_df.groupby('EverBenched')['LeaveOrNot'].count()\n",
    "\n",
    "plt.pie(leave_counts, labels=leave_counts.index, autopct='%1.1f%%')\n",
    "plt.title('Retired Employees by EverBenched')\n",
    "plt.show()\n",
    "\n",
    "corr_everBenched=employee.groupby(['EverBenched'])[['LeaveOrNot']].sum()\n",
    "print(corr_everBenched)"
   ]
  },
  {
   "cell_type": "markdown",
   "id": "e4dcc31d",
   "metadata": {
    "papermill": {
     "duration": 0.017142,
     "end_time": "2023-03-31T04:29:25.577595",
     "exception": false,
     "start_time": "2023-03-31T04:29:25.560453",
     "status": "completed"
    },
    "tags": []
   },
   "source": [
    "Now, let's remember...\n",
    "- Of 478 employees who have ever been off projects for a month or more, 227 left the company within 2 years. The dropout rate is: 47.48%\n",
    "- Of 4175 employee who had always been in project, 1383 left the company within 2 years.The dropout rate is: 33.12 %"
   ]
  },
  {
   "cell_type": "code",
   "execution_count": 18,
   "id": "b13c0e5d",
   "metadata": {
    "execution": {
     "iopub.execute_input": "2023-03-31T04:29:25.616192Z",
     "iopub.status.busy": "2023-03-31T04:29:25.614672Z",
     "iopub.status.idle": "2023-03-31T04:29:25.624536Z",
     "shell.execute_reply": "2023-03-31T04:29:25.622869Z"
    },
    "papermill": {
     "duration": 0.03204,
     "end_time": "2023-03-31T04:29:25.627341",
     "exception": false,
     "start_time": "2023-03-31T04:29:25.595301",
     "status": "completed"
    },
    "tags": []
   },
   "outputs": [
    {
     "name": "stdout",
     "output_type": "stream",
     "text": [
      "Ever benched- The dropout rate is: 47.48953974895397 %\n",
      "Never benched- The dropout rate is: 33.125748502994014 %\n"
     ]
    }
   ],
   "source": [
    "totalLeave_EB = 478\n",
    "dropoutLeave_EB = 227\n",
    "dropout_rateEB = (dropoutLeave_EB / totalLeave_EB) * 100\n",
    "\n",
    "totalLeave_NB = 4175\n",
    "dropoutLeave_NB = 1383\n",
    "dropout_rateNB = (dropoutLeave_NB / totalLeave_NB) * 100\n",
    "\n",
    "print(\"Ever benched- The dropout rate is:\", dropout_rateEB, \"%\")\n",
    "print(\"Never benched- The dropout rate is:\", dropout_rateNB, \"%\")\n"
   ]
  },
  {
   "cell_type": "markdown",
   "id": "0c0d033e",
   "metadata": {
    "papermill": {
     "duration": 0.017657,
     "end_time": "2023-03-31T04:29:25.663073",
     "exception": false,
     "start_time": "2023-03-31T04:29:25.645416",
     "status": "completed"
    },
    "tags": []
   },
   "source": [
    "Gender: The data and the graph indicate that there are \n",
    "- There are 2778 people identified as male\n",
    "- Ther are 1875 people identify as female"
   ]
  },
  {
   "cell_type": "code",
   "execution_count": 19,
   "id": "da7ee4c5",
   "metadata": {
    "execution": {
     "iopub.execute_input": "2023-03-31T04:29:25.701797Z",
     "iopub.status.busy": "2023-03-31T04:29:25.700862Z",
     "iopub.status.idle": "2023-03-31T04:29:25.874734Z",
     "shell.execute_reply": "2023-03-31T04:29:25.873589Z"
    },
    "papermill": {
     "duration": 0.19621,
     "end_time": "2023-03-31T04:29:25.877423",
     "exception": false,
     "start_time": "2023-03-31T04:29:25.681213",
     "status": "completed"
    },
    "tags": []
   },
   "outputs": [
    {
     "name": "stdout",
     "output_type": "stream",
     "text": [
      "Male      2778\n",
      "Female    1875\n",
      "Name: Gender, dtype: int64\n"
     ]
    },
    {
     "data": {
      "image/png": "[encoded data removed]",
      "text/plain": [
       "<Figure size 640x480 with 1 Axes>"
      ]
     },
     "metadata": {},
     "output_type": "display_data"
    }
   ],
   "source": [
    "gender_counts = employee['Gender'].value_counts()\n",
    "plt.hist(employee['Gender'])\n",
    "\n",
    "plt.show\n",
    "print(gender_counts)\n"
   ]
  },
  {
   "cell_type": "markdown",
   "id": "d4bb70e0",
   "metadata": {
    "papermill": {
     "duration": 0.01781,
     "end_time": "2023-03-31T04:29:25.913484",
     "exception": false,
     "start_time": "2023-03-31T04:29:25.895674",
     "status": "completed"
    },
    "tags": []
   },
   "source": [
    "According to the Gender graph in conjunction with leaveOrNot, it is found:\n",
    "- There are 884 people indentify as female who left ther employe within 2 years\n",
    "- There are 716 people indentify as male who left ther employe within 2 years"
   ]
  },
  {
   "cell_type": "code",
   "execution_count": 20,
   "id": "cdb35ff7",
   "metadata": {
    "execution": {
     "iopub.execute_input": "2023-03-31T04:29:25.952736Z",
     "iopub.status.busy": "2023-03-31T04:29:25.951789Z",
     "iopub.status.idle": "2023-03-31T04:29:26.059912Z",
     "shell.execute_reply": "2023-03-31T04:29:26.057984Z"
    },
    "papermill": {
     "duration": 0.131743,
     "end_time": "2023-03-31T04:29:26.063103",
     "exception": false,
     "start_time": "2023-03-31T04:29:25.931360",
     "status": "completed"
    },
    "tags": []
   },
   "outputs": [
    {
     "data": {
      "image/png": "[encoded data removed]",
      "text/plain": [
       "<Figure size 640x480 with 1 Axes>"
      ]
     },
     "metadata": {},
     "output_type": "display_data"
    },
    {
     "name": "stdout",
     "output_type": "stream",
     "text": [
      "        LeaveOrNot\n",
      "Gender            \n",
      "Female         884\n",
      "Male           716\n"
     ]
    }
   ],
   "source": [
    "retired_df = employee[employee['LeaveOrNot'] == 1]\n",
    "\n",
    "leave_counts = retired_df.groupby('Gender')['LeaveOrNot'].count()\n",
    "\n",
    "plt.pie(leave_counts, labels=leave_counts.index, autopct='%1.1f%%')\n",
    "plt.title('Retired Employees by Gender')\n",
    "plt.show()\n",
    "\n",
    "corr_gender=employee.groupby(['Gender'])[['LeaveOrNot']].sum()\n",
    "print(corr_gender)"
   ]
  },
  {
   "cell_type": "markdown",
   "id": "2276e628",
   "metadata": {
    "papermill": {
     "duration": 0.040994,
     "end_time": "2023-03-31T04:29:26.140499",
     "exception": false,
     "start_time": "2023-03-31T04:29:26.099505",
     "status": "completed"
    },
    "tags": []
   },
   "source": [
    "Now let's remember...\n",
    "- Of 2778 people identified as male, 716 left ther job within 2 years. The dropout rate is: 25.77 %\n",
    "- Of 1875 people identified as female, 884 left ther job within 2 years. The dropout rate is: 47.14 %\n"
   ]
  },
  {
   "cell_type": "code",
   "execution_count": 21,
   "id": "74c25ad8",
   "metadata": {
    "execution": {
     "iopub.execute_input": "2023-03-31T04:29:26.180661Z",
     "iopub.status.busy": "2023-03-31T04:29:26.179689Z",
     "iopub.status.idle": "2023-03-31T04:29:26.187686Z",
     "shell.execute_reply": "2023-03-31T04:29:26.186102Z"
    },
    "papermill": {
     "duration": 0.031673,
     "end_time": "2023-03-31T04:29:26.190710",
     "exception": false,
     "start_time": "2023-03-31T04:29:26.159037",
     "status": "completed"
    },
    "tags": []
   },
   "outputs": [
    {
     "name": "stdout",
     "output_type": "stream",
     "text": [
      "Male- The dropout rate is: 25.7739380849532 %\n",
      "Female- The dropout rate is: 47.14666666666666 %\n"
     ]
    }
   ],
   "source": [
    "totalLeave_M = 2778\n",
    "dropoutLeave_M = 716\n",
    "dropout_rateM = (dropoutLeave_M / totalLeave_M) * 100\n",
    "\n",
    "totalLeave_F = 1875\n",
    "dropoutLeave_F = 884\n",
    "dropout_rateF = (dropoutLeave_F / totalLeave_F) * 100\n",
    "\n",
    "print(\"Male- The dropout rate is:\", dropout_rateM, \"%\")\n",
    "print(\"Female- The dropout rate is:\", dropout_rateF, \"%\")"
   ]
  },
  {
   "cell_type": "markdown",
   "id": "f345deb5",
   "metadata": {
    "papermill": {
     "duration": 0.017632,
     "end_time": "2023-03-31T04:29:26.227024",
     "exception": false,
     "start_time": "2023-03-31T04:29:26.209392",
     "status": "completed"
    },
    "tags": []
   },
   "source": [
    "City: The data and the graph indicate that there are\n",
    "- 2228 people were located in Bangalore\n",
    "- 1268 people were located in Pune\n",
    "- 1157 people were located in New Delhi"
   ]
  },
  {
   "cell_type": "code",
   "execution_count": 22,
   "id": "93060590",
   "metadata": {
    "execution": {
     "iopub.execute_input": "2023-03-31T04:29:26.266727Z",
     "iopub.status.busy": "2023-03-31T04:29:26.265523Z",
     "iopub.status.idle": "2023-03-31T04:29:26.495802Z",
     "shell.execute_reply": "2023-03-31T04:29:26.494398Z"
    },
    "papermill": {
     "duration": 0.253523,
     "end_time": "2023-03-31T04:29:26.498721",
     "exception": false,
     "start_time": "2023-03-31T04:29:26.245198",
     "status": "completed"
    },
    "tags": []
   },
   "outputs": [
    {
     "name": "stdout",
     "output_type": "stream",
     "text": [
      "Bangalore    2228\n",
      "Pune         1268\n",
      "New Delhi    1157\n",
      "Name: City, dtype: int64\n"
     ]
    },
    {
     "data": {
      "text/plain": [
       "<function matplotlib.pyplot.show(close=None, block=None)>"
      ]
     },
     "execution_count": 22,
     "metadata": {},
     "output_type": "execute_result"
    },
    {
     "data": {
      "image/png": "[encoded data removed]",
      "text/plain": [
       "<Figure size 640x480 with 1 Axes>"
      ]
     },
     "metadata": {},
     "output_type": "display_data"
    }
   ],
   "source": [
    "city_counts=employee['City'].value_counts()\n",
    "print(city_counts)\n",
    "\n",
    "graphic=employee['City']\n",
    "plt.hist(graphic)\n",
    "plt.show"
   ]
  },
  {
   "cell_type": "markdown",
   "id": "407d3c2a",
   "metadata": {
    "papermill": {
     "duration": 0.019281,
     "end_time": "2023-03-31T04:29:26.537091",
     "exception": false,
     "start_time": "2023-03-31T04:29:26.517810",
     "status": "completed"
    },
    "tags": []
   },
   "source": [
    "According to the City graph in conjunction with leaveOrNot, it is found:\n",
    "- Of 1600 people who left their job 639 were located in Pune\n",
    "- Of 1600 people who left their job 595 were located in Bangalore\n",
    "- Of 1600 people who left their job 366 were located in New Delhi"
   ]
  },
  {
   "cell_type": "code",
   "execution_count": 23,
   "id": "f548e950",
   "metadata": {
    "execution": {
     "iopub.execute_input": "2023-03-31T04:29:26.578323Z",
     "iopub.status.busy": "2023-03-31T04:29:26.577472Z",
     "iopub.status.idle": "2023-03-31T04:29:26.939737Z",
     "shell.execute_reply": "2023-03-31T04:29:26.937625Z"
    },
    "papermill": {
     "duration": 0.390955,
     "end_time": "2023-03-31T04:29:26.947313",
     "exception": false,
     "start_time": "2023-03-31T04:29:26.556358",
     "status": "completed"
    },
    "tags": []
   },
   "outputs": [
    {
     "data": {
      "image/png": "[encoded data removed]",
      "text/plain": [
       "<Figure size 640x480 with 1 Axes>"
      ]
     },
     "metadata": {},
     "output_type": "display_data"
    },
    {
     "name": "stdout",
     "output_type": "stream",
     "text": [
      "           LeaveOrNot\n",
      "City                 \n",
      "Bangalore         595\n",
      "New Delhi         366\n",
      "Pune              639\n"
     ]
    }
   ],
   "source": [
    "retired_df = employee[employee['LeaveOrNot'] == 1]\n",
    "\n",
    "leave_counts = retired_df.groupby('City')['LeaveOrNot'].count()\n",
    "\n",
    "plt.pie(leave_counts, labels=leave_counts.index, autopct='%1.1f%%')\n",
    "plt.title('Retired Employees by City')\n",
    "plt.show()\n",
    "\n",
    "corr_city=employee.groupby(['City'])[['LeaveOrNot']].sum()\n",
    "print(corr_city)"
   ]
  },
  {
   "cell_type": "markdown",
   "id": "6a47b4f1",
   "metadata": {
    "papermill": {
     "duration": 0.020071,
     "end_time": "2023-03-31T04:29:27.005191",
     "exception": false,
     "start_time": "2023-03-31T04:29:26.985120",
     "status": "completed"
    },
    "tags": []
   },
   "source": [
    "Now, let's remember...\n",
    "- There are 2226 record of people who work in Bangalore, in that work location 595 left their job. The dropout rate is: 26.70 %\n",
    "- There are 1268 record of people who work in Pune, in that work location 639 left their job. The dropout rate is: 50.39 %\n",
    "- There are 1157 record of people who work in New Delhi, in that work location 366 left their job. The dropout rate is: 31.63 %"
   ]
  },
  {
   "cell_type": "code",
   "execution_count": 24,
   "id": "9aee3ab9",
   "metadata": {
    "execution": {
     "iopub.execute_input": "2023-03-31T04:29:27.048059Z",
     "iopub.status.busy": "2023-03-31T04:29:27.046959Z",
     "iopub.status.idle": "2023-03-31T04:29:27.056749Z",
     "shell.execute_reply": "2023-03-31T04:29:27.055329Z"
    },
    "papermill": {
     "duration": 0.034286,
     "end_time": "2023-03-31T04:29:27.059520",
     "exception": false,
     "start_time": "2023-03-31T04:29:27.025234",
     "status": "completed"
    },
    "tags": []
   },
   "outputs": [
    {
     "name": "stdout",
     "output_type": "stream",
     "text": [
      "Bangalore- The dropout rate is: 26.705565529622984 %\n",
      "Pune- The dropout rate is: 50.39432176656151 %\n",
      "New- Delhi- The dropout rate is: 31.633535004321523 %\n"
     ]
    }
   ],
   "source": [
    "totalLeave_B = 2228\n",
    "dropoutLeave_B = 595\n",
    "dropout_rateB = (dropoutLeave_B / totalLeave_B) * 100\n",
    "\n",
    "totalLeave_P = 1268\n",
    "dropoutLeave_P = 639\n",
    "dropout_rateP = (dropoutLeave_P / totalLeave_P) * 100\n",
    "\n",
    "totalLeave_ND = 1157\n",
    "dropoutLeave_ND = 366\n",
    "dropout_rateND = (dropoutLeave_ND / totalLeave_ND) * 100\n",
    "\n",
    "print(\"Bangalore- The dropout rate is:\", dropout_rateB, \"%\")\n",
    "print(\"Pune- The dropout rate is:\", dropout_rateP, \"%\")\n",
    "print(\"New- Delhi- The dropout rate is:\", dropout_rateND, \"%\")"
   ]
  },
  {
   "cell_type": "markdown",
   "id": "7f499893",
   "metadata": {
    "papermill": {
     "duration": 0.018729,
     "end_time": "2023-03-31T04:29:27.097593",
     "exception": false,
     "start_time": "2023-03-31T04:29:27.078864",
     "status": "completed"
    },
    "tags": []
   },
   "source": [
    "More correlations will be explored."
   ]
  },
  {
   "cell_type": "markdown",
   "id": "844241a5",
   "metadata": {
    "papermill": {
     "duration": 0.018974,
     "end_time": "2023-03-31T04:29:27.135992",
     "exception": false,
     "start_time": "2023-03-31T04:29:27.117018",
     "status": "completed"
    },
    "tags": []
   },
   "source": [
    "In this case, it is found that\n",
    "- In Pune there are more women than men who after a period of 2 years left their job\n",
    "- In New Delhi there are more women than men who after a period of 2 years left their job\n",
    "- In Bangalore there are more men than women who after a period of 2 years left their job"
   ]
  },
  {
   "cell_type": "code",
   "execution_count": 25,
   "id": "64a55103",
   "metadata": {
    "execution": {
     "iopub.execute_input": "2023-03-31T04:29:27.177922Z",
     "iopub.status.busy": "2023-03-31T04:29:27.176547Z",
     "iopub.status.idle": "2023-03-31T04:29:27.434030Z",
     "shell.execute_reply": "2023-03-31T04:29:27.432591Z"
    },
    "papermill": {
     "duration": 0.28117,
     "end_time": "2023-03-31T04:29:27.436600",
     "exception": false,
     "start_time": "2023-03-31T04:29:27.155430",
     "status": "completed"
    },
    "tags": []
   },
   "outputs": [
    {
     "data": {
      "image/png": "[encoded data removed]",
      "text/plain": [
       "<Figure size 640x480 with 1 Axes>"
      ]
     },
     "metadata": {},
     "output_type": "display_data"
    },
    {
     "name": "stdout",
     "output_type": "stream",
     "text": [
      "                             LeaveOrNot\n",
      "City      Gender LeaveOrNot            \n",
      "Bangalore Female 0                  461\n",
      "                 1                  198\n",
      "          Male   0                 1172\n",
      "                 1                  397\n",
      "New Delhi Female 0                  425\n",
      "                 1                  195\n",
      "          Male   0                  366\n",
      "                 1                  171\n",
      "Pune      Female 0                  105\n",
      "                 1                  491\n",
      "          Male   0                  524\n",
      "                 1                  148\n",
      "In Bangalore the percentage of men who resigned is: 28.54%\n",
      "In Bangalore the percentage of women who resigned is: 30.05%\n",
      "In New Delhi the percentage of men who resigned is: 31.84%\n",
      "In New Delhi the percentage of women who resigned is: 31.45%\n",
      "In Pune the percentage of men who resigned is: 22.02%\n",
      "In Pune the percentage of women who resigned is: 82.38%\n"
     ]
    }
   ],
   "source": [
    "corr = employee.groupby(['City', 'Gender', 'LeaveOrNot'])[['LeaveOrNot']].count()\n",
    "retired_df = employee[employee['LeaveOrNot'] == 1]\n",
    "leave_counts = retired_df.groupby(['City', 'Gender'])['LeaveOrNot'].count()\n",
    "\n",
    "leave_counts.unstack().plot(kind='bar')\n",
    "plt.title('Retired Employees by City and Gender')\n",
    "plt.xlabel('City')\n",
    "plt.ylabel('Number of Retired Employees')\n",
    "plt.show()\n",
    "\n",
    "print(corr)\n",
    "\n",
    "percentageBM = (391 / 1370) * 100\n",
    "percentageBF = (198 / 659) * 100\n",
    "percentageNM = (171 / 537) * 100\n",
    "percentageNF = (195 / 620) * 100\n",
    "percentagePM = (148 / 672) * 100\n",
    "percentagePF = (491 / 596) * 100\n",
    "\n",
    "\n",
    "print(f\"In Bangalore the percentage of men who resigned is: {percentageBM:.2f}%\")\n",
    "print(f\"In Bangalore the percentage of women who resigned is: {percentageBF:.2f}%\")\n",
    "print(f\"In New Delhi the percentage of men who resigned is: {percentageNM:.2f}%\")\n",
    "print(f\"In New Delhi the percentage of women who resigned is: {percentageNF:.2f}%\")\n",
    "print(f\"In Pune the percentage of men who resigned is: {percentagePM:.2f}%\")\n",
    "print(f\"In Pune the percentage of women who resigned is: {percentagePF:.2f}%\")"
   ]
  },
  {
   "cell_type": "markdown",
   "id": "c3ecca70",
   "metadata": {
    "papermill": {
     "duration": 0.019464,
     "end_time": "2023-03-31T04:29:27.476598",
     "exception": false,
     "start_time": "2023-03-31T04:29:27.457134",
     "status": "completed"
    },
    "tags": []
   },
   "source": [
    "*Surely there are more interesting relationships if you delve deeper, With this exploration the following is analyzed*\n",
    "\n",
    "**Analyzing data**\n",
    "\n",
    "\n",
    "There are 1,600 people out of 4,653 who within 2 years left their job, those who have an average salary represent 59.91%, on the contrary, people who have a basic salary represent only 24%. In contrast, the people who joined the company in 2018 and 2015 were the ones who left their jobs within two years.\n",
    "\n",
    "In the company, the majority of employees have a bachelor's degree, followed by a master's degree and a PHD, however, it is shown that of the total master's degree, 49.91% will leave the company, while people with PHD have 25.13% and bachelor's degrees 31.35%. Emphasizing, of 4,653 employees, 873 are registered as masters. Now, of 1,600 who left the company, 426 were masters and 255 received a basic salary.\n",
    "\n",
    "In the company, it is not usual for employees to be left out of a project, since there are 4,175 people out of 4,653 who have always been in a project. However, of the 1,600 people who left the company, 47.48% of people had been out of the project\n",
    "\n",
    "It is identified that there are more males than females in the company, but of the 1,600 who have left the company, 55.3% are women.\n",
    "\n",
    "In Bangalore there is the largest number of employees, followed by Pune and New Delhi, but it is in Pune where the most leave the company, since of the total number of employees in this place, 50.39% end up retiring within two years\n",
    "\n",
    "**Analysis by city**\n",
    "\n",
    "In Bangalore there are more men among the total number of women, the percentage of retirement is 30% while among the population of men it is 28.54%. In this way you can understand that women desert more in Bangalore, however, in this branch 67% are men.\n",
    "\n",
    "In New Delhi, the majority of people who leave the company within 2 years are men and it is the branch where fewer people of this gender work: 171 people out of 366 of this gender retire, this represents a percentage of 31.84%. Regarding women: 195 of 425, that is, 31.45% retire. The percentages are almost the same\n",
    "\n",
    "In Pune, 82.38% of women who work in the company retire within 2 years and this population represents 47.03% of the total number of employees.\n",
    "\n",
    "It can be seen then that in Pune women represent a significant number, but it is the branch where the most women leave the company within a period of 2 years. In Bangalore, women are also the ones who leave the company the most, there are more men who work in that location and that is why the graph indicates a higher peak in them. Finally, in New Delhi it is where the number of female and male workers is almost the same and in the same way the retirement percentage for each of the genders is the same case.\n",
    "\n",
    "\n"
   ]
  },
  {
   "cell_type": "markdown",
   "id": "50a72959",
   "metadata": {
    "papermill": {
     "duration": 0.020384,
     "end_time": "2023-03-31T04:29:27.517102",
     "exception": false,
     "start_time": "2023-03-31T04:29:27.496718",
     "status": "completed"
    },
    "tags": []
   },
   "source": [
    "**Conclusions**\n",
    "\n",
    "For the conclusions, the characteristics of the people most likely to retire within a period of 2 years after joining the company are presented below.\n",
    "\n",
    "   **Customers would leave the company in next 2 years:**\n",
    "   - Women\n",
    "   - Located in Pune\n",
    "   - Ever keep out of the projects for 1 month or more\n",
    "   - Master's degree with medium salary\n",
    "   - Join the company in the year 2018\n",
    "   \n",
    "**Customers who would not leave the company in next 2 years:**\n",
    "   - Men\n",
    "   - Located in Bangalore\n",
    "   - Always be within the company's projects\n",
    "   - PHD and bachelor's degree\n",
    "   - Bachelor's with basic salary\n",
    "   - PHD with high salary\n"
   ]
  }
 ],
 "metadata": {
  "kernelspec": {
   "display_name": "Python 3",
   "language": "python",
   "name": "python3"
  },
  "language_info": {
   "codemirror_mode": {
    "name": "ipython",
    "version": 3
   },
   "file_extension": ".py",
   "mimetype": "text/x-python",
   "name": "python",
   "nbconvert_exporter": "python",
   "pygments_lexer": "ipython3",
   "version": "3.7.12"
  },
  "papermill": {
   "default_parameters": {},
   "duration": 18.828428,
   "end_time": "2023-03-31T04:29:28.664352",
   "environment_variables": {},
   "exception": null,
   "input_path": "__notebook__.ipynb",
   "output_path": "__notebook__.ipynb",
   "parameters": {},
   "start_time": "2023-03-31T04:29:09.835924",
   "version": "2.4.0"
  }
 },
 "nbformat": 4,
 "nbformat_minor": 5
}
